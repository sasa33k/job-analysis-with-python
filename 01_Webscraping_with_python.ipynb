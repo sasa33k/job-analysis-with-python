{
 "cells": [
  {
   "cell_type": "markdown",
   "id": "60f6a770-db05-4373-af05-5ed0dda250c3",
   "metadata": {},
   "source": [
    "# Perform Webscraping on Job Search Websites and save to CSV"
   ]
  },
  {
   "cell_type": "markdown",
   "id": "9ba066bd-4c24-43f4-a754-83fad3e32830",
   "metadata": {},
   "source": [
    "**Copy and run the following if package not yet installed**\n",
    "* !pip install selenium\n",
    "* !pip install webdriver_manager"
   ]
  },
  {
   "cell_type": "code",
   "execution_count": null,
   "id": "e37f2cee-e3da-4348-b3c8-6530435a7580",
   "metadata": {},
   "outputs": [
    {
     "name": "stderr",
     "output_type": "stream",
     "text": [
      "\n",
      "\n",
      "====== WebDriver manager ======\n",
      "Current google-chrome version is 94.0.4606\n",
      "Get LATEST driver version for 94.0.4606\n",
      "Driver [/Users/samantha/.wdm/drivers/chromedriver/mac64/94.0.4606.61/chromedriver] found in cache\n"
     ]
    },
    {
     "name": "stdout",
     "output_type": "stream",
     "text": [
      "Scraping page 0 | https://hk.indeed.com/jobs?q=tester&l=Hong%20Kong&start=0&fromage=14\n",
      "Total jobs found: 38\n",
      "---NEXT---\n",
      "Scraping page 10 | https://hk.indeed.com/jobs?q=tester&l=Hong%20Kong&start=10&fromage=14\n",
      "Total jobs found: 38\n",
      "---NEXT---\n",
      "Scraping page 20 | https://hk.indeed.com/jobs?q=tester&l=Hong%20Kong&start=20&fromage=14\n",
      "Total jobs found: 38\n",
      "Total job cards scraped: 39\n",
      "1 - Scraping Job Detail Page: https://hk.indeed.com/viewjob?jk=8a0abf818b687035\n",
      "2 - Scraping Job Detail Page: https://hk.indeed.com/viewjob?jk=b7f9fb25836de4c2\n",
      "3 - Scraping Job Detail Page: https://hk.indeed.com/viewjob?jk=aa139f9664676ae2\n",
      "4 - Scraping Job Detail Page: https://hk.indeed.com/viewjob?jk=caf239a6209fe20a\n",
      "5 - Scraping Job Detail Page: https://hk.indeed.com/viewjob?jk=c24552f432b1962f\n",
      "6 - Scraping Job Detail Page: https://hk.indeed.com/viewjob?jk=eaf044ad11547603\n",
      "7 - Scraping Job Detail Page: https://hk.indeed.com/viewjob?jk=89a9f967dc1ade88\n",
      "8 - Scraping Job Detail Page: https://hk.indeed.com/viewjob?jk=7db1b1c7097f5e44\n",
      "9 - Scraping Job Detail Page: https://hk.indeed.com/viewjob?jk=9c718191a5105872\n",
      "10 - Scraping Job Detail Page: https://hk.indeed.com/viewjob?jk=e493b9e276fdd95a\n",
      "11 - Scraping Job Detail Page: https://hk.indeed.com/viewjob?jk=b9a9ef5ca286d958\n"
     ]
    }
   ],
   "source": [
    "import indeed_webscrape as indeed\n",
    "indeed.webscrape(job = \"tester\",location = \"Hong Kong\", base_url = \"https://hk.indeed.com/\")"
   ]
  },
  {
   "cell_type": "raw",
   "id": "f95c21c8-5a44-42f4-9412-a81f479ce270",
   "metadata": {},
   "source": [
    "git config --global user.name \"Name\"\n",
    "git config --global user.email \"user@example.com\"\n",
    "\n",
    "git remote add origin https://github.com/sasa33k/job-analysis-with-python.git\n",
    "git branch -M main\n",
    "git push -u origin main\n",
    "\n",
    "git status\n",
    "git add validations.py\n",
    "git commit\n",
    "git push origin (branchname)\n"
   ]
  }
 ],
 "metadata": {
  "kernelspec": {
   "display_name": "Python 3 (ipykernel)",
   "language": "python",
   "name": "python3"
  },
  "language_info": {
   "codemirror_mode": {
    "name": "ipython",
    "version": 3
   },
   "file_extension": ".py",
   "mimetype": "text/x-python",
   "name": "python",
   "nbconvert_exporter": "python",
   "pygments_lexer": "ipython3",
   "version": "3.8.9"
  }
 },
 "nbformat": 4,
 "nbformat_minor": 5
}
